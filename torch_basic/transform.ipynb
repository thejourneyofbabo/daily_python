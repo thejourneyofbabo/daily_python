{
 "cells": [
  {
   "cell_type": "markdown",
   "id": "307d6c01",
   "metadata": {},
   "source": [
    "# PyTorch Transforms"
   ]
  },
  {
   "cell_type": "code",
   "execution_count": null,
   "id": "c4266ac9",
   "metadata": {},
   "outputs": [],
   "source": [
    "import torch\n",
    "from torchvision import datasets\n",
    "from torchvision.transforms import ToTensor, Lambda \n",
    "\n",
    "ds = datasets.FashionMNIST(\n",
    "    root=\"data\",\n",
    "    train=True,\n",
    "    download=True,\n",
    "    transform=ToTensor(),\n",
    "    target_transform =Lambda(lambda y: torch.zeros(\n",
    "        10, dtype=torch.float).scatter_(0, torch.tensor(y), value=1))\n",
    ")\n",
    "# print(len(ds.classes))"
   ]
  },
  {
   "cell_type": "markdown",
   "id": "9e77735d",
   "metadata": {},
   "source": [
    "ToTensor converts a PIL image or NumPy ndarray into a FloatTensor. And scales the image's pixel intensity values in the range[0,1]"
   ]
  },
  {
   "cell_type": "markdown",
   "id": "06806ca2",
   "metadata": {},
   "source": [
    "Lambda transforms apply any user-defined lambda function. Here, we define a function to turn the integer into a one-hot encoded tensor. It first creates a zero tensor of size 10 (the number of labels in our dataset) and calls scatter_ which assigns a value=1 on the index as given by the label y."
   ]
  },
  {
   "cell_type": "code",
   "execution_count": null,
   "id": "8c86fc32",
   "metadata": {},
   "outputs": [],
   "source": []
  }
 ],
 "metadata": {
  "kernelspec": {
   "display_name": "Python 3",
   "language": "python",
   "name": "python3"
  },
  "language_info": {
   "codemirror_mode": {
    "name": "ipython",
    "version": 3
   },
   "file_extension": ".py",
   "mimetype": "text/x-python",
   "name": "python",
   "nbconvert_exporter": "python",
   "pygments_lexer": "ipython3",
   "version": "3.10.12"
  }
 },
 "nbformat": 4,
 "nbformat_minor": 5
}
